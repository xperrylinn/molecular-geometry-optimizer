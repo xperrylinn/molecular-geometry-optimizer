{
 "cells": [
  {
   "cell_type": "markdown",
   "id": "9b06c9c4",
   "metadata": {},
   "source": [
    "# Setup"
   ]
  },
  {
   "cell_type": "code",
   "execution_count": null,
   "id": "7bb22487",
   "metadata": {},
   "outputs": [],
   "source": [
    "from convert_xyz_to_atomic_units import convert_xyz_to_txt\n",
    "\n",
    "import matplotlib.pylab as plt\n",
    "import pandas as pd\n",
    "import seaborn\n",
    "import os\n",
    "import re"
   ]
  },
  {
   "cell_type": "markdown",
   "id": "f7e8dffd",
   "metadata": {},
   "source": [
    "## DIIS and Fixed Point Iteration Comparison"
   ]
  },
  {
   "cell_type": "markdown",
   "id": "a497426c",
   "metadata": {},
   "source": [
    "Convert xyz files to txt"
   ]
  },
  {
   "cell_type": "code",
   "execution_count": null,
   "id": "27fd6eb2",
   "metadata": {},
   "outputs": [],
   "source": [
    "input_mol_xyz_files = [\n",
    "    \"Cyclopropane.xyz\",\n",
    "    \"Cyclobutane.xyz\",\n",
    "    \"Cyclopentane.xyz\",\n",
    "    \"Cyclohexane.xyz\",\n",
    "    \"Cycloheptane.xyz\",\n",
    "    \"Cyclooctane.xyz\",\n",
    "    \"Cyclononane.xyz\",\n",
    "    \"Cyclodecane.xyz\",\n",
    "    \"Cyclopentacontane.xyz\",\n",
    "    \"Cyclohectane.xyz\",\n",
    "]\n",
    "for input_xyz_file in input_mol_xyz_files:\n",
    "    convert_xyz_to_txt(f\"./data/{input_xyz_file}\")"
   ]
  },
  {
   "cell_type": "markdown",
   "id": "583e1dbf",
   "metadata": {},
   "source": [
    "Run SCF for each"
   ]
  },
  {
   "cell_type": "code",
   "execution_count": null,
   "id": "53996ba7",
   "metadata": {
    "scrolled": false
   },
   "outputs": [],
   "source": [
    "input_mol_txt_file_and_params = [\n",
    "    (\"./data/Cyclopropane.txt\", 9, 9, \"DIIS\", 3),\n",
    "    (\"./data/Cyclobutane.txt\", 12, 12, \"DIIS\", 4),\n",
    "    (\"./data/Cyclopentane.txt\", 15, 15, \"DIIS\", 5),\n",
    "    (\"./data/Cyclohexane.txt\", 18, 18, \"DIIS\", 6),\n",
    "    (\"./data/Cycloheptane.txt\", 21, 21, \"DIIS\", 7),\n",
    "    (\"./data/Cyclooctane.txt\", 24, 24, \"DIIS\", 8),\n",
    "    (\"./data/Cyclononane.txt\", 27, 27, \"DIIS\", 9),\n",
    "    (\"./data/Cyclodecane.txt\", 30, 30, \"DIIS\", 10),\n",
    "    (\"./data/Cyclopentacontane.txt\", 150, 150, \"DIIS\", 50),\n",
    "#     (\"./data/Cyclohectane.txt\", 300, 300, \"DIIS\", 100),\n",
    "    \n",
    "    (\"./data/Cyclopropane.txt\", 9, 9, \"fixedPointIteration\", 3),\n",
    "    (\"./data/Cyclobutane.txt\", 12, 12, \"fixedPointIteration\", 4),\n",
    "    (\"./data/Cyclopentane.txt\", 15, 15, \"fixedPointIteration\", 5),\n",
    "    (\"./data/Cyclohexane.txt\", 18, 18, \"fixedPointIteration\", 6),\n",
    "    (\"./data/Cycloheptane.txt\", 21, 21, \"fixedPointIteration\", 7),\n",
    "    (\"./data/Cyclooctane.txt\", 24, 24, \"fixedPointIteration\", 8),\n",
    "    (\"./data/Cyclononane.txt\", 27, 27, \"fixedPointIteration\", 9),\n",
    "    (\"./data/Cyclodecane.txt\", 30, 30, \"fixedPointIteration\", 10),\n",
    "    (\"./data/Cyclopentacontane.txt\", 150, 150, \"fixedPointIteration\", 50),\n",
    "#     (\"./data/Cyclohectane.txt\", 300, 300, \"fixedPointIteration\", 100),\n",
    "]\n",
    "dicts = []\n",
    "for input_txt_file_and_param in input_mol_txt_file_and_params:\n",
    "    input_txt_file, p, q, scfAlgo, num_carbons = input_txt_file_and_param\n",
    "    executeable_command = f\"./moleculeGeometryOptimizer {input_txt_file} {p} {q} {scfAlgo}\"\n",
    "    print(executeable_command)\n",
    "    output = os.popen(executeable_command).read()\n",
    "    m = re.search(\n",
    "        pattern=r\"SCF\\siteration\\scount\\:\\s(?P<scf_iter_count>\\d+)\",\n",
    "        string=output\n",
    "    )\n",
    "    dicts.append(\n",
    "        {\n",
    "            \"scf_iter_count\": m.groupdict()[\"scf_iter_count\"], \n",
    "            \"type\": scfAlgo,\n",
    "            \"molecule\": os.path.basename(input_txt_file).split(\".\")[0],\n",
    "            \"num_carbons\": num_carbons,\n",
    "        }\n",
    "    )\n",
    "\n",
    "df = pd.DataFrame(data=dicts).astype(dtype={\"scf_iter_count\": int, \"type\": str})\n",
    "df"
   ]
  },
  {
   "cell_type": "code",
   "execution_count": null,
   "id": "7faf967e",
   "metadata": {},
   "outputs": [],
   "source": [
    "facet_grid = seaborn.catplot(\n",
    "    data=df, \n",
    "    kind=\"bar\",\n",
    "    x=\"molecule\", \n",
    "    y=\"scf_iter_count\", \n",
    "    hue=\"type\"\n",
    ")\n",
    "facet_grid.set_axis_labels(x_label=\"molecule\", y_label=\"iteration count\")\n",
    "facet_grid.legend.set_title(\"SCF Algorithm\")\n",
    "plt.xticks(rotation=45)"
   ]
  },
  {
   "cell_type": "markdown",
   "id": "314dfd6e",
   "metadata": {},
   "source": [
    "# ScratchWork"
   ]
  },
  {
   "cell_type": "code",
   "execution_count": null,
   "id": "67dc57bd",
   "metadata": {},
   "outputs": [],
   "source": [
    "r\"iterationCount\\:\\s(?P<opt_iter_count>\\d+)\"\""
   ]
  },
  {
   "cell_type": "code",
   "execution_count": null,
   "id": "892d16c6",
   "metadata": {},
   "outputs": [],
   "source": [
    "r\"SCF iteration count\\:\\s(?P<scf_iter_count>\\d+)\""
   ]
  },
  {
   "cell_type": "code",
   "execution_count": null,
   "id": "42fe09f4",
   "metadata": {},
   "outputs": [],
   "source": [
    "s = \"\"\"./moleculeGeometryOptimizer ./data/Cyclodecane.txt 30 30 DIIS\n",
    "Hello World! Running geometry optimization on input file ./data/Cyclodecane.txt\n",
    "Nuclear Repulsion Energy: 9055.5 eV\n",
    "Electronic energy: -11480.4 eV\n",
    "Total energy: -2424.89 eV\n",
    "SCF iteration count: 8\"\"\"\n",
    "m = re.search(\n",
    "        pattern=r\"SCF\\siteration\\scount\\:\\s(?P<scf_iter_count>\\d+)\",\n",
    "        string=s\n",
    "    )\n",
    "m"
   ]
  },
  {
   "cell_type": "code",
   "execution_count": null,
   "id": "44c15d34",
   "metadata": {},
   "outputs": [],
   "source": [
    "m.groupdict()"
   ]
  }
 ],
 "metadata": {
  "kernelspec": {
   "display_name": "Python 3 (ipykernel)",
   "language": "python",
   "name": "python3"
  },
  "language_info": {
   "codemirror_mode": {
    "name": "ipython",
    "version": 3
   },
   "file_extension": ".py",
   "mimetype": "text/x-python",
   "name": "python",
   "nbconvert_exporter": "python",
   "pygments_lexer": "ipython3",
   "version": "3.9.5"
  }
 },
 "nbformat": 4,
 "nbformat_minor": 5
}
