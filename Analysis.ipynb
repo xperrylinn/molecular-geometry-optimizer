{
 "cells": [
  {
   "cell_type": "markdown",
   "id": "ee6d0365",
   "metadata": {},
   "source": [
    "# Setup"
   ]
  },
  {
   "cell_type": "code",
   "execution_count": null,
   "id": "37773b61",
   "metadata": {},
   "outputs": [],
   "source": [
    "import pandas as pd\n",
    "import seaborn\n",
    "import os"
   ]
  },
  {
   "cell_type": "markdown",
   "id": "9d138156",
   "metadata": {},
   "source": [
    "## DIIS and Fixed Point Iteration Comparison"
   ]
  },
  {
   "cell_type": "code",
   "execution_count": null,
   "id": "17cd8a5d",
   "metadata": {},
   "outputs": [],
   "source": []
  }
 ],
 "metadata": {
  "kernelspec": {
   "display_name": "Python 3 (ipykernel)",
   "language": "python",
   "name": "python3"
  },
  "language_info": {
   "codemirror_mode": {
    "name": "ipython",
    "version": 3
   },
   "file_extension": ".py",
   "mimetype": "text/x-python",
   "name": "python",
   "nbconvert_exporter": "python",
   "pygments_lexer": "ipython3",
   "version": "3.9.5"
  }
 },
 "nbformat": 4,
 "nbformat_minor": 5
}
