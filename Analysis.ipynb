{
 "cells": [
  {
   "cell_type": "markdown",
   "id": "ee3d4ae3",
   "metadata": {},
   "source": [
    "# Setup"
   ]
  },
  {
   "cell_type": "code",
   "execution_count": 1,
   "id": "465341e5",
   "metadata": {},
   "outputs": [],
   "source": [
    "import matplotlib.pylab as plt\n",
    "import pandas as pd\n",
    "import seaborn\n",
    "import os\n",
    "import re"
   ]
  },
  {
   "cell_type": "markdown",
   "id": "50fb3aab",
   "metadata": {},
   "source": [
    "# Helpers"
   ]
  },
  {
   "cell_type": "code",
   "execution_count": 2,
   "id": "eccd5dea",
   "metadata": {},
   "outputs": [],
   "source": [
    "def convert_xyz_to_txt(file_path: str):\n",
    "    \"\"\"\n",
    "    Converts file XYZ atomic coordiantes in Angstrom to atomic units\n",
    "    and writes a new file with the same name but with the suffix extension\n",
    "    .txt formatted appropriately to be ingestable by moleculeFromTxt\n",
    "\n",
    "    Parameters\n",
    "    ----------\n",
    "    file_path : str\n",
    "        File path to .xyz file\n",
    "\n",
    "    Returns\n",
    "    -------\n",
    "    None\n",
    "    \"\"\"\n",
    "    output_file_name = \"./data/\" + os.path.basename(file_path).replace(\".xyz\", \".txt\")\n",
    "\n",
    "    # Read xyz as a CSV\n",
    "    df = pd.read_csv(\n",
    "        filepath_or_buffer=file_path,\n",
    "        delim_whitespace=True,\n",
    "        skiprows=range(0, 2),\n",
    "        names=[\n",
    "            \"atomic symbol\",\n",
    "            \"x\",\n",
    "            \"y\",\n",
    "            \"z\",\n",
    "        ],\n",
    "        dtype={\n",
    "            \"atomic symbol\": str,\n",
    "            \"x\": float,\n",
    "            \"y\": float,\n",
    "            \"z\": float,\n",
    "        }\n",
    "    )\n",
    "\n",
    "    # Convert atomic symbols to atomic numbers\n",
    "    atmomic_symbol_atmoic_num_map = {\n",
    "        \"H\": 1,\n",
    "        \"C\": 6,\n",
    "    }\n",
    "    df[\"atomic symbol\"] = df[\"atomic symbol\"].apply(lambda x: atmomic_symbol_atmoic_num_map[x])\n",
    "\n",
    "    # Converrt x, y, and z coordinates to atomic units\n",
    "    atomic_units_per_angstrom = 1.8897259885789\n",
    "    df[\"x\"] = df[\"x\"] * atomic_units_per_angstrom\n",
    "    df[\"y\"] = df[\"y\"] * atomic_units_per_angstrom\n",
    "    df[\"z\"] = df[\"z\"] * atomic_units_per_angstrom\n",
    "\n",
    "    # Write to CSV\n",
    "    df.to_csv(\n",
    "        path_or_buf=output_file_name,\n",
    "        sep=\" \",\n",
    "        index=False,\n",
    "        header=False\n",
    "    )\n",
    "    \n",
    "    # Add header line which number of atoms and charge of molecule\n",
    "    def line_prepender(file_name, line):\n",
    "        with open(file_name, 'r+') as f:\n",
    "            content = f.read()\n",
    "            f.seek(0, 0)\n",
    "            f.write(line.rstrip('\\r\\n') + '\\n' + content)\n",
    "    header_line = open(file_path).readline().replace('\\n', '') + \" 0\"   # Assumes charge is zero\n",
    "    line_prepender(output_file_name, header_line)\n",
    "    \n",
    "    print(f\"output: {output_file_name}\")"
   ]
  },
  {
   "cell_type": "markdown",
   "id": "72e6d7ec",
   "metadata": {},
   "source": [
    "## DIIS and Fixed Point Iteration Comparison"
   ]
  },
  {
   "cell_type": "markdown",
   "id": "c2a001f5",
   "metadata": {},
   "source": [
    "Convert xyz files to txt"
   ]
  },
  {
   "cell_type": "code",
   "execution_count": 3,
   "id": "f478cec1",
   "metadata": {},
   "outputs": [
    {
     "name": "stdout",
     "output_type": "stream",
     "text": [
      "output: ./data/Cyclopropane.txt\n",
      "output: ./data/Cyclobutane.txt\n",
      "output: ./data/Cyclopentane.txt\n",
      "output: ./data/Cyclohexane.txt\n",
      "output: ./data/Cycloheptane.txt\n",
      "output: ./data/Cyclooctane.txt\n",
      "output: ./data/Cyclononane.txt\n",
      "output: ./data/Cyclodecane.txt\n",
      "output: ./data/Cyclopentacontane.txt\n",
      "output: ./data/Cyclohectane.txt\n"
     ]
    }
   ],
   "source": [
    "input_mol_xyz_files = [\n",
    "    \"Cyclopropane.xyz\",\n",
    "    \"Cyclobutane.xyz\",\n",
    "    \"Cyclopentane.xyz\",\n",
    "    \"Cyclohexane.xyz\",\n",
    "    \"Cycloheptane.xyz\",\n",
    "    \"Cyclooctane.xyz\",\n",
    "    \"Cyclononane.xyz\",\n",
    "    \"Cyclodecane.xyz\",\n",
    "    \"Cyclopentacontane.xyz\",\n",
    "    \"Cyclohectane.xyz\",\n",
    "]\n",
    "for input_xyz_file in input_mol_xyz_files:\n",
    "    convert_xyz_to_txt(f\"./data/Jmol_export_xyz/{input_xyz_file}\")"
   ]
  },
  {
   "cell_type": "markdown",
   "id": "286a8ffb",
   "metadata": {},
   "source": [
    "Run SCF for each"
   ]
  },
  {
   "cell_type": "code",
   "execution_count": 7,
   "id": "e06ff3b4",
   "metadata": {
    "scrolled": false
   },
   "outputs": [
    {
     "name": "stdout",
     "output_type": "stream",
     "text": [
      "./moleculeGeometryOptimizer ./data/Cyclopropane.txt 9 9 fixedPointIteration true\n",
      "./moleculeGeometryOptimizer ./data/Cyclobutane.txt 12 12 fixedPointIteration true\n",
      "./moleculeGeometryOptimizer ./data/Cyclopentane.txt 15 15 fixedPointIteration true\n",
      "./moleculeGeometryOptimizer ./data/Cyclohexane.txt 18 18 fixedPointIteration true\n",
      "./moleculeGeometryOptimizer ./data/Cycloheptane.txt 21 21 fixedPointIteration true\n",
      "./moleculeGeometryOptimizer ./data/Cyclooctane.txt 24 24 fixedPointIteration true\n",
      "./moleculeGeometryOptimizer ./data/Cyclononane.txt 27 27 fixedPointIteration true\n",
      "./moleculeGeometryOptimizer ./data/Cyclodecane.txt 30 30 fixedPointIteration true\n",
      "./moleculeGeometryOptimizer ./data/Cyclopropane.txt 9 9 DIIS true\n",
      "./moleculeGeometryOptimizer ./data/Cyclobutane.txt 12 12 DIIS true\n",
      "./moleculeGeometryOptimizer ./data/Cyclopentane.txt 15 15 DIIS true\n",
      "./moleculeGeometryOptimizer ./data/Cyclohexane.txt 18 18 DIIS true\n",
      "./moleculeGeometryOptimizer ./data/Cycloheptane.txt 21 21 DIIS true\n",
      "./moleculeGeometryOptimizer ./data/Cyclooctane.txt 24 24 DIIS true\n",
      "./moleculeGeometryOptimizer ./data/Cyclononane.txt 27 27 DIIS true\n",
      "./moleculeGeometryOptimizer ./data/Cyclodecane.txt 30 30 DIIS true\n"
     ]
    },
    {
     "data": {
      "text/html": [
       "<div>\n",
       "<style scoped>\n",
       "    .dataframe tbody tr th:only-of-type {\n",
       "        vertical-align: middle;\n",
       "    }\n",
       "\n",
       "    .dataframe tbody tr th {\n",
       "        vertical-align: top;\n",
       "    }\n",
       "\n",
       "    .dataframe thead th {\n",
       "        text-align: right;\n",
       "    }\n",
       "</style>\n",
       "<table border=\"1\" class=\"dataframe\">\n",
       "  <thead>\n",
       "    <tr style=\"text-align: right;\">\n",
       "      <th></th>\n",
       "      <th>scf_iter_count</th>\n",
       "      <th>type</th>\n",
       "      <th>molecule</th>\n",
       "      <th>num_carbons</th>\n",
       "    </tr>\n",
       "  </thead>\n",
       "  <tbody>\n",
       "    <tr>\n",
       "      <th>0</th>\n",
       "      <td>14</td>\n",
       "      <td>fixedPointIteration</td>\n",
       "      <td>Cyclopropane</td>\n",
       "      <td>3</td>\n",
       "    </tr>\n",
       "    <tr>\n",
       "      <th>1</th>\n",
       "      <td>17</td>\n",
       "      <td>fixedPointIteration</td>\n",
       "      <td>Cyclobutane</td>\n",
       "      <td>4</td>\n",
       "    </tr>\n",
       "    <tr>\n",
       "      <th>2</th>\n",
       "      <td>16</td>\n",
       "      <td>fixedPointIteration</td>\n",
       "      <td>Cyclopentane</td>\n",
       "      <td>5</td>\n",
       "    </tr>\n",
       "    <tr>\n",
       "      <th>3</th>\n",
       "      <td>16</td>\n",
       "      <td>fixedPointIteration</td>\n",
       "      <td>Cyclohexane</td>\n",
       "      <td>6</td>\n",
       "    </tr>\n",
       "    <tr>\n",
       "      <th>4</th>\n",
       "      <td>15</td>\n",
       "      <td>fixedPointIteration</td>\n",
       "      <td>Cycloheptane</td>\n",
       "      <td>7</td>\n",
       "    </tr>\n",
       "    <tr>\n",
       "      <th>5</th>\n",
       "      <td>16</td>\n",
       "      <td>fixedPointIteration</td>\n",
       "      <td>Cyclooctane</td>\n",
       "      <td>8</td>\n",
       "    </tr>\n",
       "    <tr>\n",
       "      <th>6</th>\n",
       "      <td>300</td>\n",
       "      <td>fixedPointIteration</td>\n",
       "      <td>Cyclononane</td>\n",
       "      <td>9</td>\n",
       "    </tr>\n",
       "    <tr>\n",
       "      <th>7</th>\n",
       "      <td>17</td>\n",
       "      <td>fixedPointIteration</td>\n",
       "      <td>Cyclodecane</td>\n",
       "      <td>10</td>\n",
       "    </tr>\n",
       "    <tr>\n",
       "      <th>8</th>\n",
       "      <td>7</td>\n",
       "      <td>DIIS</td>\n",
       "      <td>Cyclopropane</td>\n",
       "      <td>3</td>\n",
       "    </tr>\n",
       "    <tr>\n",
       "      <th>9</th>\n",
       "      <td>8</td>\n",
       "      <td>DIIS</td>\n",
       "      <td>Cyclobutane</td>\n",
       "      <td>4</td>\n",
       "    </tr>\n",
       "    <tr>\n",
       "      <th>10</th>\n",
       "      <td>8</td>\n",
       "      <td>DIIS</td>\n",
       "      <td>Cyclopentane</td>\n",
       "      <td>5</td>\n",
       "    </tr>\n",
       "    <tr>\n",
       "      <th>11</th>\n",
       "      <td>8</td>\n",
       "      <td>DIIS</td>\n",
       "      <td>Cyclohexane</td>\n",
       "      <td>6</td>\n",
       "    </tr>\n",
       "    <tr>\n",
       "      <th>12</th>\n",
       "      <td>9</td>\n",
       "      <td>DIIS</td>\n",
       "      <td>Cycloheptane</td>\n",
       "      <td>7</td>\n",
       "    </tr>\n",
       "    <tr>\n",
       "      <th>13</th>\n",
       "      <td>9</td>\n",
       "      <td>DIIS</td>\n",
       "      <td>Cyclooctane</td>\n",
       "      <td>8</td>\n",
       "    </tr>\n",
       "    <tr>\n",
       "      <th>14</th>\n",
       "      <td>16</td>\n",
       "      <td>DIIS</td>\n",
       "      <td>Cyclononane</td>\n",
       "      <td>9</td>\n",
       "    </tr>\n",
       "    <tr>\n",
       "      <th>15</th>\n",
       "      <td>8</td>\n",
       "      <td>DIIS</td>\n",
       "      <td>Cyclodecane</td>\n",
       "      <td>10</td>\n",
       "    </tr>\n",
       "  </tbody>\n",
       "</table>\n",
       "</div>"
      ],
      "text/plain": [
       "    scf_iter_count                 type      molecule  num_carbons\n",
       "0               14  fixedPointIteration  Cyclopropane            3\n",
       "1               17  fixedPointIteration   Cyclobutane            4\n",
       "2               16  fixedPointIteration  Cyclopentane            5\n",
       "3               16  fixedPointIteration   Cyclohexane            6\n",
       "4               15  fixedPointIteration  Cycloheptane            7\n",
       "5               16  fixedPointIteration   Cyclooctane            8\n",
       "6              300  fixedPointIteration   Cyclononane            9\n",
       "7               17  fixedPointIteration   Cyclodecane           10\n",
       "8                7                 DIIS  Cyclopropane            3\n",
       "9                8                 DIIS   Cyclobutane            4\n",
       "10               8                 DIIS  Cyclopentane            5\n",
       "11               8                 DIIS   Cyclohexane            6\n",
       "12               9                 DIIS  Cycloheptane            7\n",
       "13               9                 DIIS   Cyclooctane            8\n",
       "14              16                 DIIS   Cyclononane            9\n",
       "15               8                 DIIS   Cyclodecane           10"
      ]
     },
     "execution_count": 7,
     "metadata": {},
     "output_type": "execute_result"
    }
   ],
   "source": [
    "input_mol_txt_file_and_params = [    \n",
    "    (\"./data/Cyclopropane.txt\", 9, 9, \"fixedPointIteration\", 3),\n",
    "    (\"./data/Cyclobutane.txt\", 12, 12, \"fixedPointIteration\", 4),\n",
    "    (\"./data/Cyclopentane.txt\", 15, 15, \"fixedPointIteration\", 5),\n",
    "    (\"./data/Cyclohexane.txt\", 18, 18, \"fixedPointIteration\", 6),\n",
    "    (\"./data/Cycloheptane.txt\", 21, 21, \"fixedPointIteration\", 7),\n",
    "    (\"./data/Cyclooctane.txt\", 24, 24, \"fixedPointIteration\", 8),\n",
    "    (\"./data/Cyclononane.txt\", 27, 27, \"fixedPointIteration\", 9),\n",
    "    (\"./data/Cyclodecane.txt\", 30, 30, \"fixedPointIteration\", 10),\n",
    "#     (\"./data/Cyclopentacontane.txt\", 150, 150, \"fixedPointIteration\", 50),\n",
    "#     (\"./data/Cyclohectane.txt\", 300, 300, \"fixedPointIteration\", 100),\n",
    "    \n",
    "    (\"./data/Cyclopropane.txt\", 9, 9, \"DIIS\", 3),\n",
    "    (\"./data/Cyclobutane.txt\", 12, 12, \"DIIS\", 4),\n",
    "    (\"./data/Cyclopentane.txt\", 15, 15, \"DIIS\", 5),\n",
    "    (\"./data/Cyclohexane.txt\", 18, 18, \"DIIS\", 6),\n",
    "    (\"./data/Cycloheptane.txt\", 21, 21, \"DIIS\", 7),\n",
    "    (\"./data/Cyclooctane.txt\", 24, 24, \"DIIS\", 8),\n",
    "    (\"./data/Cyclononane.txt\", 27, 27, \"DIIS\", 9),\n",
    "    (\"./data/Cyclodecane.txt\", 30, 30, \"DIIS\", 10),\n",
    "#     (\"./data/Cyclopentacontane.txt\", 150, 150, \"DIIS\", 50),\n",
    "#     (\"./data/Cyclohectane.txt\", 300, 300, \"DIIS\", 100),\n",
    "]\n",
    "dicts = []\n",
    "for input_txt_file_and_param in input_mol_txt_file_and_params:\n",
    "    input_txt_file, p, q, scfAlgo, num_carbons = input_txt_file_and_param\n",
    "    executeable_command = f\"./moleculeGeometryOptimizer {input_txt_file} {p} {q} {scfAlgo} true\"\n",
    "    print(executeable_command)\n",
    "    output = os.popen(executeable_command).read()\n",
    "    m = re.search(\n",
    "        pattern=r\"SCF\\siteration\\scount\\:\\s(?P<scf_iter_count>\\d+)\",\n",
    "        string=output\n",
    "    )\n",
    "    dicts.append(\n",
    "        {\n",
    "            \"scf_iter_count\": m.groupdict()[\"scf_iter_count\"], \n",
    "            \"type\": scfAlgo,\n",
    "            \"molecule\": os.path.basename(input_txt_file).split(\".\")[0],\n",
    "            \"num_carbons\": num_carbons,\n",
    "        }\n",
    "    )\n",
    "\n",
    "df = pd.DataFrame(data=dicts).astype(dtype={\"scf_iter_count\": int, \"type\": str})\n",
    "df"
   ]
  },
  {
   "cell_type": "code",
   "execution_count": 5,
   "id": "da72a158",
   "metadata": {},
   "outputs": [
    {
     "data": {
      "text/plain": [
       "(array([0, 1, 2, 3, 4, 5, 6, 7]),\n",
       " [Text(0, 0, 'Cyclopropane'),\n",
       "  Text(1, 0, 'Cyclobutane'),\n",
       "  Text(2, 0, 'Cyclopentane'),\n",
       "  Text(3, 0, 'Cyclohexane'),\n",
       "  Text(4, 0, 'Cycloheptane'),\n",
       "  Text(5, 0, 'Cyclooctane'),\n",
       "  Text(6, 0, 'Cyclononane'),\n",
       "  Text(7, 0, 'Cyclodecane')])"
      ]
     },
     "execution_count": 5,
     "metadata": {},
     "output_type": "execute_result"
    },
    {
     "data": {
      "image/png": "[encoded data removed]",
      "text/plain": [
       "<Figure size 487.625x360 with 1 Axes>"
      ]
     },
     "metadata": {
      "needs_background": "light"
     },
     "output_type": "display_data"
    }
   ],
   "source": [
    "facet_grid = seaborn.catplot(\n",
    "    data=df, \n",
    "    kind=\"bar\",\n",
    "    x=\"molecule\", \n",
    "    y=\"scf_iter_count\", \n",
    "    hue=\"type\"\n",
    ")\n",
    "facet_grid.set_axis_labels(x_label=\"molecule\", y_label=\"iteration count\")\n",
    "facet_grid.legend.set_title(\"SCF Algorithm\")\n",
    "plt.xticks(rotation=45)"
   ]
  },
  {
   "cell_type": "code",
   "execution_count": null,
   "id": "77849e37",
   "metadata": {},
   "outputs": [],
   "source": []
  },
  {
   "cell_type": "markdown",
   "id": "6ca32f60",
   "metadata": {},
   "source": [
    "# ScratchWork"
   ]
  },
  {
   "cell_type": "code",
   "execution_count": null,
   "id": "2e15b3c4",
   "metadata": {},
   "outputs": [],
   "source": [
    "r\"iterationCount\\:\\s(?P<opt_iter_count>\\d+)\"\""
   ]
  },
  {
   "cell_type": "code",
   "execution_count": null,
   "id": "8e55739d",
   "metadata": {},
   "outputs": [],
   "source": [
    "r\"SCF iteration count\\:\\s(?P<scf_iter_count>\\d+)\""
   ]
  },
  {
   "cell_type": "code",
   "execution_count": null,
   "id": "c9136ec1",
   "metadata": {},
   "outputs": [],
   "source": [
    "s = \"\"\"./moleculeGeometryOptimizer ./data/Cyclodecane.txt 30 30 DIIS\n",
    "Hello World! Running geometry optimization on input file ./data/Cyclodecane.txt\n",
    "Nuclear Repulsion Energy: 9055.5 eV\n",
    "Electronic energy: -11480.4 eV\n",
    "Total energy: -2424.89 eV\n",
    "SCF iteration count: 8\"\"\"\n",
    "m = re.search(\n",
    "        pattern=r\"SCF\\siteration\\scount\\:\\s(?P<scf_iter_count>\\d+)\",\n",
    "        string=s\n",
    "    )\n",
    "m"
   ]
  },
  {
   "cell_type": "code",
   "execution_count": null,
   "id": "ed800d25",
   "metadata": {},
   "outputs": [],
   "source": [
    "m.groupdict()"
   ]
  }
 ],
 "metadata": {
  "kernelspec": {
   "display_name": "Python 3 (ipykernel)",
   "language": "python",
   "name": "python3"
  },
  "language_info": {
   "codemirror_mode": {
    "name": "ipython",
    "version": 3
   },
   "file_extension": ".py",
   "mimetype": "text/x-python",
   "name": "python",
   "nbconvert_exporter": "python",
   "pygments_lexer": "ipython3",
   "version": "3.9.5"
  }
 },
 "nbformat": 4,
 "nbformat_minor": 5
}
